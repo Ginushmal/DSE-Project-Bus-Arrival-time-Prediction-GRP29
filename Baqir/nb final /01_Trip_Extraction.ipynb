{
  "cells": [
    {
      "cell_type": "code",
      "source": [
        "\n",
        "### mount google drive\n",
        "from google.colab import drive\n",
        "drive.mount('/content/drive')"
      ],
      "metadata": {
        "colab": {
          "base_uri": "https://localhost:8080/"
        },
        "id": "6_sDRC7dsl34",
        "outputId": "29a25f72-d51c-491a-d498-ae63d40175e4"
      },
      "execution_count": 12,
      "outputs": [
        {
          "output_type": "stream",
          "name": "stdout",
          "text": [
            "Drive already mounted at /content/drive; to attempt to forcibly remount, call drive.mount(\"/content/drive\", force_remount=True).\n"
          ]
        }
      ]
    },
    {
      "cell_type": "code",
      "source": [
        "### paths\n",
        "\n",
        "raw_files = ['/content/drive/MyDrive/DSE_Project/rawData/digana_2022_07.csv',\n",
        "    '/content/drive/MyDrive/DSE_Project/rawData/digana_2022_08.csv',\n",
        "             ]\n",
        "bus_terminal_path = '/content/drive/MyDrive/DSE_Project/bus_stops_and_terminals_654.csv'"
      ],
      "metadata": {
        "id": "xcKsHwSZsQx1"
      },
      "execution_count": 13,
      "outputs": []
    },
    {
      "cell_type": "code",
      "execution_count": 14,
      "metadata": {
        "colab": {
          "base_uri": "https://localhost:8080/"
        },
        "id": "bBdAi23Orv_O",
        "outputId": "2c3c7ba6-cb16-4682-de4e-e497d97c8c63"
      },
      "outputs": [
        {
          "output_type": "stream",
          "name": "stdout",
          "text": [
            "Requirement already satisfied: geopandas in /usr/local/lib/python3.10/dist-packages (0.13.2)\n",
            "Requirement already satisfied: fiona>=1.8.19 in /usr/local/lib/python3.10/dist-packages (from geopandas) (1.9.4.post1)\n",
            "Requirement already satisfied: packaging in /usr/local/lib/python3.10/dist-packages (from geopandas) (23.1)\n",
            "Requirement already satisfied: pandas>=1.1.0 in /usr/local/lib/python3.10/dist-packages (from geopandas) (1.5.3)\n",
            "Requirement already satisfied: pyproj>=3.0.1 in /usr/local/lib/python3.10/dist-packages (from geopandas) (3.6.0)\n",
            "Requirement already satisfied: shapely>=1.7.1 in /usr/local/lib/python3.10/dist-packages (from geopandas) (2.0.1)\n",
            "Requirement already satisfied: attrs>=19.2.0 in /usr/local/lib/python3.10/dist-packages (from fiona>=1.8.19->geopandas) (23.1.0)\n",
            "Requirement already satisfied: certifi in /usr/local/lib/python3.10/dist-packages (from fiona>=1.8.19->geopandas) (2023.7.22)\n",
            "Requirement already satisfied: click~=8.0 in /usr/local/lib/python3.10/dist-packages (from fiona>=1.8.19->geopandas) (8.1.7)\n",
            "Requirement already satisfied: click-plugins>=1.0 in /usr/local/lib/python3.10/dist-packages (from fiona>=1.8.19->geopandas) (1.1.1)\n",
            "Requirement already satisfied: cligj>=0.5 in /usr/local/lib/python3.10/dist-packages (from fiona>=1.8.19->geopandas) (0.7.2)\n",
            "Requirement already satisfied: six in /usr/local/lib/python3.10/dist-packages (from fiona>=1.8.19->geopandas) (1.16.0)\n",
            "Requirement already satisfied: python-dateutil>=2.8.1 in /usr/local/lib/python3.10/dist-packages (from pandas>=1.1.0->geopandas) (2.8.2)\n",
            "Requirement already satisfied: pytz>=2020.1 in /usr/local/lib/python3.10/dist-packages (from pandas>=1.1.0->geopandas) (2023.3.post1)\n",
            "Requirement already satisfied: numpy>=1.21.0 in /usr/local/lib/python3.10/dist-packages (from pandas>=1.1.0->geopandas) (1.23.5)\n",
            "Requirement already satisfied: folium in /usr/local/lib/python3.10/dist-packages (0.14.0)\n",
            "Requirement already satisfied: branca>=0.6.0 in /usr/local/lib/python3.10/dist-packages (from folium) (0.6.0)\n",
            "Requirement already satisfied: jinja2>=2.9 in /usr/local/lib/python3.10/dist-packages (from folium) (3.1.2)\n",
            "Requirement already satisfied: numpy in /usr/local/lib/python3.10/dist-packages (from folium) (1.23.5)\n",
            "Requirement already satisfied: requests in /usr/local/lib/python3.10/dist-packages (from folium) (2.31.0)\n",
            "Requirement already satisfied: MarkupSafe>=2.0 in /usr/local/lib/python3.10/dist-packages (from jinja2>=2.9->folium) (2.1.3)\n",
            "Requirement already satisfied: charset-normalizer<4,>=2 in /usr/local/lib/python3.10/dist-packages (from requests->folium) (3.2.0)\n",
            "Requirement already satisfied: idna<4,>=2.5 in /usr/local/lib/python3.10/dist-packages (from requests->folium) (3.4)\n",
            "Requirement already satisfied: urllib3<3,>=1.21.1 in /usr/local/lib/python3.10/dist-packages (from requests->folium) (2.0.4)\n",
            "Requirement already satisfied: certifi>=2017.4.17 in /usr/local/lib/python3.10/dist-packages (from requests->folium) (2023.7.22)\n"
          ]
        }
      ],
      "source": [
        "! pip install geopandas\n",
        "!pip install folium"
      ]
    },
    {
      "cell_type": "code",
      "execution_count": 15,
      "metadata": {
        "id": "i4afUnRorv_Q"
      },
      "outputs": [],
      "source": [
        "import pandas as pd\n",
        "import matplotlib.pyplot as plt\n",
        "import numpy as np\n",
        "from datetime import datetime,date\n",
        "import geopandas as gpd\n",
        "from geopandas import GeoDataFrame as gdf\n",
        "from folium import Choropleth, Circle, Marker\n",
        "from folium.plugins import HeatMap, MarkerCluster\n",
        "import glob\n",
        "import os\n",
        "import folium\n",
        "\n"
      ]
    },
    {
      "cell_type": "code",
      "execution_count": 16,
      "metadata": {
        "id": "QWuO2zuarv_Q"
      },
      "outputs": [],
      "source": [
        "\n",
        "### we take the two end terminals for kandy-digana route\n",
        "### we define data cleaning functions , perform data cleaning for csv file one by one"
      ]
    },
    {
      "cell_type": "code",
      "execution_count": 17,
      "metadata": {
        "id": "-9VzhKgUrv_R"
      },
      "outputs": [],
      "source": [
        "bus_terminals=pd.read_csv(bus_terminal_path)"
      ]
    },
    {
      "cell_type": "code",
      "execution_count": 18,
      "metadata": {
        "id": "7xOdZZPCrv_S"
      },
      "outputs": [],
      "source": [
        "# get rows for bus terminals BT01 & BT02 for kandy-digana route\n",
        "bus_terminals = bus_terminals[bus_terminals['stop_id'].isin(['BT01', 'BT02'])]\n",
        "\n",
        "# Drop duplicates\n",
        "bus_terminals = bus_terminals.drop_duplicates(subset=['stop_id'], keep='first')\n",
        "\n",
        "# change the column name stop_id to terminal_id\n",
        "bus_terminals = bus_terminals.rename(columns={'stop_id': 'terminal_id'})\n",
        "\n",
        "# reset index\n",
        "bus_terminals = bus_terminals.reset_index(drop=True)"
      ]
    },
    {
      "cell_type": "code",
      "execution_count": 19,
      "metadata": {
        "id": "-rBAB9ucrv_S"
      },
      "outputs": [],
      "source": [
        "# @title raw_data_cleaning_function\n",
        "\n",
        "def raw_data_cleaning(raw_data):\n",
        "    \"\"\"\n",
        "    Removal of records with error records.\n",
        "    Remove data with zero values for longitude and latitude columns.\n",
        "    Remove data with dates outside the desired range.\n",
        "    Sort data by time and device.\n",
        "\n",
        "    Args:\n",
        "        raw_data (pd.DataFrame): Crude raw GPS data filtered out from the server for the required time window.\n",
        "\n",
        "    Returns:\n",
        "        gps_data (pd.DataFrame): A cleaned dataframe object of GPS data.\n",
        "    \"\"\"\n",
        "\n",
        "    # raw_data = raw_data.drop(drop_columns, axis=1)\n",
        "\n",
        "    gps_data = raw_data[raw_data.latitude != 0]\n",
        "    gps_data = gps_data[gps_data.longitude != 0]  # cleaning zero values for latitude & longitude\n",
        "\n",
        "    gps_data['date'] = pd.to_datetime(gps_data['devicetime']).dt.date  # split date and time separately into datetime variables\n",
        "    gps_data['time'] = pd.to_datetime(gps_data['devicetime']).dt.time\n",
        "\n",
        "    # Remove rows with dates outside the desired range\n",
        "    start_date = pd.Timestamp(\"2021-10-01\").date()\n",
        "    end_date = pd.Timestamp(\"2022-10-31\").date()\n",
        "    gps_data = gps_data[(gps_data['date'] >= start_date) & (gps_data['date'] <= end_date)]\n",
        "\n",
        "    gps_data = gps_data.sort_values(['deviceid', 'date', 'time'])  # sorting dataset by time and device\n",
        "\n",
        "    return gps_data\n"
      ]
    },
    {
      "cell_type": "code",
      "source": [
        "additional_columns = ['servertime','fixtime','address','routeid']\n",
        "\n",
        "# drop the additional columns"
      ],
      "metadata": {
        "id": "GpUHPInbNDUp"
      },
      "execution_count": 21,
      "outputs": []
    },
    {
      "cell_type": "code",
      "source": [
        "\n",
        "# Create an empty list to store DataFrames\n",
        "raw_data = pd.DataFrame()\n",
        "\n",
        "#raw file paths are defined at the top\n",
        "# Loop through the list of file names and read each CSV into a DataFrame clean them and concatenate them to one DataFrame\n",
        "for file in raw_files:\n",
        "    df = pd.read_csv(file)\n",
        "\n",
        "    try:  #sum files dont have additional columns\n",
        "      df.drop(additional_columns, axis = 1, inplace = True)\n",
        "    except Exception as e:\n",
        "      print(e)\n",
        "      pass\n",
        "\n",
        "    df = raw_data_cleaning(df)\n",
        "\n",
        "    raw_data = pd.concat([raw_data, df], ignore_index=True)\n",
        "\n",
        "# Concatenate the DataFrames vertically\n",
        "raw_data\n"
      ],
      "metadata": {
        "id": "q_-fCIpmt8uL"
      },
      "execution_count": null,
      "outputs": []
    },
    {
      "cell_type": "code",
      "source": [
        "gps_data = raw_data"
      ],
      "metadata": {
        "id": "bDf7ZvH-u53P"
      },
      "execution_count": 30,
      "outputs": []
    },
    {
      "cell_type": "code",
      "execution_count": null,
      "metadata": {
        "id": "AlBVVXGJrv_S"
      },
      "outputs": [],
      "source": [
        "### the data was sorted by deviceid, date and time during data cleaning"
      ]
    },
    {
      "cell_type": "code",
      "source": [
        "gps_data"
      ],
      "metadata": {
        "id": "So3AOIJHYXnE"
      },
      "execution_count": null,
      "outputs": []
    },
    {
      "cell_type": "code",
      "execution_count": null,
      "metadata": {
        "id": "k15sW5Y8rv_T"
      },
      "outputs": [],
      "source": [
        "def trip_ends(gps_data,bus_terminals,end_buffer):\n",
        "\n",
        "  \"\"\"\n",
        "    To extract trip ends dataframe with given buffer range.\n",
        "    Filter the records within terminals selected buffer range.\n",
        "    Within the filtered records get entry & exit to terminals.\n",
        "\n",
        "\n",
        "    Args:\n",
        "        gps_data (pd.DataFrame): Cleaned gps data filtered out from the server for the required time window.\n",
        "        bus_terminals (pd.DataFrame): End and start terminals for the trip.\n",
        "        end_buffer (int):  Radius of the buffer area to represent terminals.\n",
        "\n",
        "    Returns:\n",
        "        trip_ends (pd.DataFrame): Trip data with extracted terminals.\n",
        "  \"\"\"\n",
        "\n",
        "  #converting to GeoDataframe with Coordinate Reference system 4326\n",
        "  gps_data = gpd.GeoDataFrame(gps_data, geometry=gpd.points_from_xy(gps_data.longitude,gps_data.latitude),crs='EPSG:4326')\n",
        "  bus_terminals = gpd.GeoDataFrame(bus_terminals, geometry=gpd.points_from_xy(bus_terminals.longitude,bus_terminals.latitude),crs='EPSG:4326')\n",
        "\n",
        "  #project them in local cordinate system\n",
        "  gps_data = gps_data.to_crs('EPSG:5234')\n",
        "  bus_terminals = bus_terminals.to_crs('EPSG:5234')\n",
        "\n",
        "  #creating buffer area to extract records around bus terminals\n",
        "  #will return a series of geometries of all points within the buffer\n",
        "  bus_terminals_buffer = gpd.GeoDataFrame(bus_terminals, geometry = bus_terminals.geometry.buffer(end_buffer))\n",
        "\n",
        "  #filtering coordinates within bus terminals end buffer\n",
        "  gps_data['bus_stop'] = pd.Series(dtype='object') #create a new column in gps data set\n",
        "  gps_data.reset_index(drop = True, inplace = True) #reset indices to run a for loop\n",
        "\n",
        "\n",
        "  ### rows of df for locations within buffer of terminal will get terminal value for busstop\n",
        "  ### rest get na\n",
        "  for i in range(len(gps_data)):\n",
        "    for stop in range(len(bus_terminals)):\n",
        "        if bus_terminals_buffer.iloc[stop].geometry.contains(gps_data.iloc[i].geometry):\n",
        "          gps_data.at[i, 'bus_stop'] = bus_terminals.at[stop, 'terminal_id']\n",
        "\n",
        "\n",
        "  trip_ends = gps_data.dropna() #filter records within terminal buffer\n",
        "\n",
        "  #EXTRACT TRIP ENDS\n",
        "  ### trip ends has just the data near the terminals\n",
        "  #grouping the filtered records of one bus terminal and one date\n",
        "  trip_ends['grouped_ends'] = ((trip_ends['bus_stop'].shift() != trip_ends['bus_stop']) | (trip_ends['date'].shift() != trip_ends['date'])).cumsum()\n",
        "\n",
        "  ### this will give a unique id for each group of trip end data near same terminal and date\n",
        "\n",
        "  ### the trip ends will have data of bus entering and exiting the terminal\n",
        "\n",
        "  #find the entry or exit record only of the terminals\n",
        "  #Early records is the entry(1) to the terminal and last record as the exit(0) to the end terminal\n",
        "  trip_ends['entry/exit'] = pd.Series(dtype='object')\n",
        "  trip_ends = trip_ends.reset_index(drop=True)\n",
        "\n",
        "\n",
        "  ### a group has data of busses near same terminal on the same day\n",
        "  for name, group in trip_ends.groupby('grouped_ends'):\n",
        "    #if 0 in group['speed'].values:\n",
        "    for index, row in group.iterrows():\n",
        "      if row['devicetime'] == group['devicetime'].max():\n",
        "        trip_ends.at[index,'entry/exit'] = '0'  #exit\n",
        "      elif row['devicetime'] == group['devicetime'].min():\n",
        "        trip_ends.at[index,'entry/exit'] = '1'  #entry\n",
        "\n",
        "  trip_ends = trip_ends.dropna() #filter terminal entry/exit records only\n",
        "  ### we will have rows of data with only the data of a bus leaving the terminal or\n",
        "  ### entering the terminal , that is one entry and one exit per trip if they exist\n",
        "\n",
        "  trip_ends = trip_ends.reset_index(drop=True)\n",
        "\n",
        "  trip_ends['trip_id'] = pd.Series(dtype='int')  # Create an empty 'trip_id' column\n",
        "  #Providing unique trip id for trips which have entry / exit values within the 2 bus end terminals\n",
        "  trip = 0\n",
        "  for i in range(len(trip_ends)-1):\n",
        "    if (trip_ends.at[i,'bus_stop'] != trip_ends.at[i+1,'bus_stop']) & (trip_ends.at[i,'date'] == trip_ends.at[i+1,'date']):\n",
        "      trip= trip+1\n",
        "      trip_ends.at[i,'trip_id'] = trip\n",
        "      trip_ends.at[i+1,'trip_id'] = trip\n",
        "\n",
        "  trip_ends = trip_ends.dropna()\n",
        "\n",
        "  trip_ends = trip_ends.groupby('trip_id').filter(lambda x : len(x)>1)    #remove outliers where no defined 2 trip ends for a trip\n",
        "  trip_ends = trip_ends.reset_index(drop=True)\n",
        "\n",
        "  return trip_ends\n",
        "\n",
        "\n",
        "end_buffer = 100\n",
        "trip_ends = trip_ends(gps_data,bus_terminals,end_buffer)"
      ]
    },
    {
      "cell_type": "code",
      "execution_count": null,
      "metadata": {
        "id": "qEvuYbhnrv_T"
      },
      "outputs": [],
      "source": [
        "trip_ends=trip_ends.dropna()"
      ]
    },
    {
      "cell_type": "code",
      "execution_count": null,
      "metadata": {
        "id": "hvvo0C54rv_T"
      },
      "outputs": [],
      "source": [
        "trip_ends"
      ]
    },
    {
      "cell_type": "code",
      "execution_count": null,
      "metadata": {
        "id": "b2d10pezrv_T",
        "outputId": "d0945d9c-d5a8-4c26-acaf-49a044c14c0d"
      },
      "outputs": [
        {
          "name": "stdout",
          "output_type": "stream",
          "text": [
            "CSV file saved at: ../DataOut/trip_ends.csv\n"
          ]
        }
      ],
      "source": [
        "def download_csv(data, filename):\n",
        "    \"\"\"\n",
        "    Save DataFrame as a CSV file in the root folder of the project.\n",
        "\n",
        "    Args:\n",
        "        data (pd.DataFrame): DataFrame Object.\n",
        "        filename (str): Name of the file.\n",
        "\n",
        "    Returns:\n",
        "        None\n",
        "    \"\"\"\n",
        "    filename = filename + '.csv'\n",
        "    file_path = filename\n",
        "    data.to_csv(file_path, encoding='utf-8-sig', index=False)\n",
        "    print(f\"CSV file saved at: {file_path}\")\n",
        "\n",
        "# Example usage\n",
        "download_csv(trip_ends, '../DataOut/trip_ends')\n"
      ]
    },
    {
      "cell_type": "code",
      "execution_count": null,
      "metadata": {
        "id": "g03iPIikrv_U",
        "outputId": "f9da6c3b-a338-4c43-9f6c-f114554cde68"
      },
      "outputs": [
        {
          "name": "stdout",
          "output_type": "stream",
          "text": [
            "CSV file saved at: ../DataOut/bus_trips.csv\n"
          ]
        }
      ],
      "source": [
        "def trip_extraction(trip_ends):\n",
        "\n",
        "  \"\"\"\n",
        "    To extract bus trips with derived columns.\n",
        "    Create end_time, end_terminal for a bus trip.\n",
        "    Create features of duration, duration_in_mins, day_of_the_week, hour_of_day\n",
        "\n",
        "    Args:\n",
        "        trip_ends (pd.DataFrame): Filtered bus trip data with terminals.\n",
        "\n",
        "    Returns:\n",
        "        bus_trips (pd.DataFrame): Bus trip terminals data with derived features.\n",
        "  \"\"\"\n",
        "\n",
        "  bus_trips = trip_ends.copy()\n",
        "  bus_trips[['end_time','end_terminal']] = bus_trips[['time','bus_stop']].shift(-1)\n",
        "  ### every trip has two records we take the time it reaches the end terminal by shift -1 then drop the 2nd\n",
        "  bus_trips = bus_trips.iloc[::2]\n",
        "\n",
        "  bus_trips = bus_trips.drop(['id','devicetime','latitude','longitude','speed','geometry','grouped_ends','entry/exit'],axis=1)\n",
        "  bus_trips.insert(0,'trip_id',bus_trips.pop('trip_id'))\n",
        "  bus_trips.rename(columns = {'time':'start_time','bus_stop': 'start_terminal'}, inplace =True)\n",
        "\n",
        "  conditions = [(bus_trips['start_terminal'] == 'BT01'),\n",
        "              (bus_trips['start_terminal'] == 'BT02')]\n",
        "  values = [1,2]\n",
        "\n",
        "  bus_trips['direction'] = np.select(conditions, values)\n",
        "\n",
        "  bus_trips = bus_trips[['trip_id','deviceid','date','start_terminal','end_terminal','direction','start_time','end_time']]\n",
        "  bus_trips=bus_trips.reset_index(drop = True)\n",
        "\n",
        "  #Calculate trip duration\n",
        "  bus_trips['duration'] = pd.Series(dtype='object')\n",
        "  for i in range(len(bus_trips)):\n",
        "    bus_trips.at[i,'duration'] = datetime.combine(date.min,bus_trips.at[i,'end_time']) - datetime.combine(date.min,bus_trips.at[i,'start_time'])\n",
        "\n",
        "  bus_trips['duration_in_mins'] = bus_trips['duration']/np.timedelta64(1,'m')\n",
        "\n",
        "  bus_trips['day_of_week'] = pd.to_datetime(bus_trips['date']).dt.weekday\n",
        "  bus_trips['hour_of_day'] = list(map(lambda  x: x.hour, (bus_trips['start_time'])))\n",
        "\n",
        "  return bus_trips\n",
        "\n",
        "bus_trips = trip_extraction(trip_ends)\n",
        "download_csv(bus_trips,'../DataOut/bus_trips')\n"
      ]
    },
    {
      "cell_type": "code",
      "execution_count": null,
      "metadata": {
        "id": "JL_4RiKGrv_U"
      },
      "outputs": [],
      "source": [
        "bus_trips"
      ]
    },
    {
      "cell_type": "code",
      "execution_count": null,
      "metadata": {
        "id": "TFgFhYIgrv_U",
        "outputId": "cc1bae6b-d2ea-4759-c9c3-0362dea36799"
      },
      "outputs": [
        {
          "data": {
            "text/html": [
              "<div style=\"width:100%;\"><div style=\"position:relative;width:100%;height:0;padding-bottom:60%;\"><span style=\"color:#565656\">Make this Notebook Trusted to load map: File -> Trust Notebook</span><iframe srcdoc=\"&lt;!DOCTYPE html&gt;\n",
              "&lt;html&gt;\n",
              "&lt;head&gt;\n",
              "    \n",
              "    &lt;meta http-equiv=&quot;content-type&quot; content=&quot;text/html; charset=UTF-8&quot; /&gt;\n",
              "    \n",
              "        &lt;script&gt;\n",
              "            L_NO_TOUCH = false;\n",
              "            L_DISABLE_3D = false;\n",
              "        &lt;/script&gt;\n",
              "    \n",
              "    &lt;style&gt;html, body {width: 100%;height: 100%;margin: 0;padding: 0;}&lt;/style&gt;\n",
              "    &lt;style&gt;#map {position:absolute;top:0;bottom:0;right:0;left:0;}&lt;/style&gt;\n",
              "    &lt;script src=&quot;https://cdn.jsdelivr.net/npm/leaflet@1.9.3/dist/leaflet.js&quot;&gt;&lt;/script&gt;\n",
              "    &lt;script src=&quot;https://code.jquery.com/jquery-1.12.4.min.js&quot;&gt;&lt;/script&gt;\n",
              "    &lt;script src=&quot;https://cdn.jsdelivr.net/npm/bootstrap@5.2.2/dist/js/bootstrap.bundle.min.js&quot;&gt;&lt;/script&gt;\n",
              "    &lt;script src=&quot;https://cdnjs.cloudflare.com/ajax/libs/Leaflet.awesome-markers/2.0.2/leaflet.awesome-markers.js&quot;&gt;&lt;/script&gt;\n",
              "    &lt;link rel=&quot;stylesheet&quot; href=&quot;https://cdn.jsdelivr.net/npm/leaflet@1.9.3/dist/leaflet.css&quot;/&gt;\n",
              "    &lt;link rel=&quot;stylesheet&quot; href=&quot;https://cdn.jsdelivr.net/npm/bootstrap@5.2.2/dist/css/bootstrap.min.css&quot;/&gt;\n",
              "    &lt;link rel=&quot;stylesheet&quot; href=&quot;https://netdna.bootstrapcdn.com/bootstrap/3.0.0/css/bootstrap.min.css&quot;/&gt;\n",
              "    &lt;link rel=&quot;stylesheet&quot; href=&quot;https://cdn.jsdelivr.net/npm/@fortawesome/fontawesome-free@6.2.0/css/all.min.css&quot;/&gt;\n",
              "    &lt;link rel=&quot;stylesheet&quot; href=&quot;https://cdnjs.cloudflare.com/ajax/libs/Leaflet.awesome-markers/2.0.2/leaflet.awesome-markers.css&quot;/&gt;\n",
              "    &lt;link rel=&quot;stylesheet&quot; href=&quot;https://cdn.jsdelivr.net/gh/python-visualization/folium/folium/templates/leaflet.awesome.rotate.min.css&quot;/&gt;\n",
              "    \n",
              "            &lt;meta name=&quot;viewport&quot; content=&quot;width=device-width,\n",
              "                initial-scale=1.0, maximum-scale=1.0, user-scalable=no&quot; /&gt;\n",
              "            &lt;style&gt;\n",
              "                #map_8a3130707072276b06b20d2452559840 {\n",
              "                    position: relative;\n",
              "                    width: 100.0%;\n",
              "                    height: 100.0%;\n",
              "                    left: 0.0%;\n",
              "                    top: 0.0%;\n",
              "                }\n",
              "                .leaflet-container { font-size: 1rem; }\n",
              "            &lt;/style&gt;\n",
              "        \n",
              "&lt;/head&gt;\n",
              "&lt;body&gt;\n",
              "    \n",
              "    \n",
              "            &lt;div class=&quot;folium-map&quot; id=&quot;map_8a3130707072276b06b20d2452559840&quot; &gt;&lt;/div&gt;\n",
              "        \n",
              "&lt;/body&gt;\n",
              "&lt;script&gt;\n",
              "    \n",
              "    \n",
              "            var map_8a3130707072276b06b20d2452559840 = L.map(\n",
              "                &quot;map_8a3130707072276b06b20d2452559840&quot;,\n",
              "                {\n",
              "                    center: [7.2906, 80.6337],\n",
              "                    crs: L.CRS.EPSG3857,\n",
              "                    zoom: 14,\n",
              "                    zoomControl: true,\n",
              "                    preferCanvas: false,\n",
              "                }\n",
              "            );\n",
              "\n",
              "            \n",
              "\n",
              "        \n",
              "    \n",
              "            var tile_layer_cce6addb9cc079722499fd978bff7f5f = L.tileLayer(\n",
              "                &quot;https://{s}.tile.openstreetmap.org/{z}/{x}/{y}.png&quot;,\n",
              "                {&quot;attribution&quot;: &quot;Data by \\u0026copy; \\u003ca target=\\&quot;_blank\\&quot; href=\\&quot;http://openstreetmap.org\\&quot;\\u003eOpenStreetMap\\u003c/a\\u003e, under \\u003ca target=\\&quot;_blank\\&quot; href=\\&quot;http://www.openstreetmap.org/copyright\\&quot;\\u003eODbL\\u003c/a\\u003e.&quot;, &quot;detectRetina&quot;: false, &quot;maxNativeZoom&quot;: 18, &quot;maxZoom&quot;: 18, &quot;minZoom&quot;: 0, &quot;noWrap&quot;: false, &quot;opacity&quot;: 1, &quot;subdomains&quot;: &quot;abc&quot;, &quot;tms&quot;: false}\n",
              "            ).addTo(map_8a3130707072276b06b20d2452559840);\n",
              "        \n",
              "    \n",
              "\n",
              "        function geo_json_7d2f6a66b296fb2c9cc5f8e095931737_onEachFeature(feature, layer) {\n",
              "            layer.on({\n",
              "            });\n",
              "        };\n",
              "        var geo_json_7d2f6a66b296fb2c9cc5f8e095931737 = L.geoJson(null, {\n",
              "                onEachFeature: geo_json_7d2f6a66b296fb2c9cc5f8e095931737_onEachFeature,\n",
              "            \n",
              "        });\n",
              "\n",
              "        function geo_json_7d2f6a66b296fb2c9cc5f8e095931737_add (data) {\n",
              "            geo_json_7d2f6a66b296fb2c9cc5f8e095931737\n",
              "                .addData(data)\n",
              "                .addTo(map_8a3130707072276b06b20d2452559840);\n",
              "        }\n",
              "            geo_json_7d2f6a66b296fb2c9cc5f8e095931737_add({&quot;bbox&quot;: [80.63407215789076, 7.291557928047419, 80.73562571590821, 7.2998643092039615], &quot;features&quot;: [{&quot;bbox&quot;: [80.63407215789076, 7.291557928047419, 80.63588350074802, 7.293366533093621], &quot;geometry&quot;: {&quot;coordinates&quot;: [[[80.63588350074802, 7.292462503602633], [80.63587916640459, 7.292373865141524], [80.63586615169676, 7.292286077696172], [80.63584458196823, 7.292199986707032], [80.6358146649518, 7.2921164212762895], [80.63577668876874, 7.292036186183208], [80.63573101915382, 7.291960054133717], [80.63567809593286, 7.291888758318903], [80.635618428787, 7.29182298535406], [80.63555259234408, 7.291763368666312], [80.6354812206446, 7.2917104823944445], [80.6354050010357, 7.2916648358597325], [80.63532466755152, 7.29162686866101], [80.63524099384423, 7.291596946441141], [80.6351547857335, 7.291575357365803], [80.63506687344608, 7.291562309348319], [80.63497810362047, 7.291557928047419], [80.63488933115352, 7.291562255657073], [80.63480141096751, 7.291575250500194], [80.63471518977695, 7.291596787429961], [80.63463149793449, 7.291626659035076], [80.63455114143426, 7.291664577637164], [80.63447489414997, 7.291710178061235], [80.63440349038216, 7.29176302115245], [80.63433761778654, 7.291822598005324], [80.63427791075165, 7.2918883348646775], [80.63422494428924, 7.291959598651137], [80.63417922849669, 7.2920357030579], [80.63414120364443, 7.292115915160197], [80.63411123593576, 7.29219946247363], [80.63408961397995, 7.292285540393565], [80.63407654601276, 7.29237331994385], [80.63407215789076, 7.292461955760247], [80.63407649187901, 7.2925505942317415], [80.63408950624397, 7.2926383817212495], [80.63411107565514, 7.292724472786618], [80.63414099239186, 7.292808038322727], [80.63417896834365, 7.292888273546267], [80.63422463778461, 7.2929644057462975], [80.63427756089561, 7.293035701725943], [80.63433722799975, 7.293101474863574], [80.63440306447076, 7.293161091725434], [80.63447443626707, 7.293213978166041], [80.63455065603786, 7.293259624857633], [80.63463098974273, 7.293297592195357], [80.63471466372103, 7.293327514530997], [80.63480087214268, 7.293349103694428], [80.63488878476899, 7.293362151768939], [80.63497755494843, 7.293366533093621], [80.63506632777055, 7.293362205473582], [80.63515424829941, 7.293349210586311], [80.63524046980736, 7.293327673580313], [80.63532416192953, 7.293297801869833], [80.63540451866102, 7.293259883137286], [80.63548076611924, 7.293214282562673], [80.63555216999703, 7.293161439306629], [80.63561804263436, 7.2931018622809685], [80.63567774964118, 7.293036125247498], [80.63573071600673, 7.292964861292304], [80.6357764316374, 7.292888756728652], [80.63581445626897, 7.292808544487361], [80.63584442370666, 7.29272499705816], [80.63586604535153, 7.292638919050129], [80.63587911297982, 7.292551139442814], [80.63588350074802, 7.292462503602633]]], &quot;type&quot;: &quot;Polygon&quot;}, &quot;id&quot;: &quot;0&quot;, &quot;properties&quot;: {&quot;address&quot;: &quot;Kandy&quot;, &quot;direction&quot;: &quot;Kandy-Digana&quot;, &quot;latitude&quot;: 7.292462226, &quot;longitude&quot;: 80.6349778, &quot;route_id&quot;: 654, &quot;terminal_id&quot;: &quot;BT01&quot;}, &quot;type&quot;: &quot;Feature&quot;}, {&quot;bbox&quot;: [80.7338143421131, 7.2980556998731725, 80.73562571590821, 7.2998643092039615], &quot;geometry&quot;: {&quot;coordinates&quot;: [[[80.73562571590821, 7.298960077819425], [80.73562136188187, 7.298871440112637], [80.73560832753222, 7.298783655337997], [80.73558673839204, 7.298697568910159], [80.73555680238114, 7.298614009887331], [80.73551880780363, 7.298533782986999], [80.73547312057133, 7.298457660836147], [80.73542018067972, 7.298386376530504], [80.73536049797042, 7.298320616574499], [80.73529464722104, 7.298261014269956], [80.73522326260986, 7.298208143617158], [80.73514703160822, 7.29816251378697], [80.73506668835995, 7.298124564217381], [80.7349830066112, 7.2980946603815315], [80.73489679225902, 7.2980730902681], [80.73480887559022, 7.298060061607854], [80.73472010328548, 7.2980556998731725], [80.73463133026554, 7.298060047069658], [80.734543411458, 7.298073061331664], [80.73445719356408, 7.298094617325426], [80.7343735069047, 7.298124507456108], [80.73429315742418, 7.298162443866986], [80.73421691892864, 7.29820806121161], [80.73414552563403, 7.29826092017221], [80.73407966509531, 7.2983205116905], [80.73401997158489, 7.298386261870082], [80.73396701998443, 7.298457537503276], [80.73392132024824, 7.298533652169194], [80.73388331249214, 7.298613872844215], [80.73385336275486, 7.298697426961348], [80.73383175947266, 7.298783509850384], [80.73381871070151, 7.298871292487247], [80.7338143421131, 7.298959929477919], [80.73381869578444, 7.299048567199993], [80.73383172979237, 7.299136352023532], [80.73385331861722, 7.299222438531997], [80.73388325435134, 7.29930599766409], [80.73392124870124, 7.299386224698115], [80.73396693576382, 7.2994623470019615], [80.73401987555016, 7.299533631474013], [80.73407955822267, 7.299599391603455], [80.73414540900514, 7.299658994081784], [80.73421679371803, 7.2997118649020525], [80.73429302488613, 7.299757494886946], [80.73437336835916, 7.299795444592539], [80.73445705038233, 7.299825348540463], [80.73454326504809, 7.299846918737739], [80.73463118205753, 7.299859947450366], [80.73471995471691, 7.2998643092039615], [80.73480872809185, 7.299859961992186], [80.73489664724113, 7.299846947681286], [80.73498286545038, 7.299825391606893], [80.73506655238653, 7.299795501366948], [80.73514690209467, 7.299757564822371], [80.73522314075991, 7.299711947324754], [80.7352945341598, 7.299659088197748], [80.73536039473532, 7.299599496506024], [80.73542008821263, 7.299533746152658], [80.73547303971137, 7.299462470351994], [80.73551873928112, 7.2993863555313645], [80.73555674681246, 7.299306134720337], [80.73558669627532, 7.299222580491128], [80.73560829924392, 7.299136497518252], [80.73562134767442, 7.299048714829004], [80.73562571590821, 7.298960077819425]]], &quot;type&quot;: &quot;Polygon&quot;}, &quot;id&quot;: &quot;1&quot;, &quot;properties&quot;: {&quot;address&quot;: &quot;Digana&quot;, &quot;direction&quot;: &quot;Kandy-Digana&quot;, &quot;latitude&quot;: 7.29896, &quot;longitude&quot;: 80.73472, &quot;route_id&quot;: 654, &quot;terminal_id&quot;: &quot;BT02&quot;}, &quot;type&quot;: &quot;Feature&quot;}], &quot;type&quot;: &quot;FeatureCollection&quot;});\n",
              "\n",
              "        \n",
              "&lt;/script&gt;\n",
              "&lt;/html&gt;\" style=\"position:absolute;width:100%;height:100%;left:0;top:0;border:none !important;\" allowfullscreen webkitallowfullscreen mozallowfullscreen></iframe></div></div>"
            ],
            "text/plain": [
              "<folium.folium.Map at 0x1c9a6861a50>"
            ]
          },
          "execution_count": 17,
          "metadata": {},
          "output_type": "execute_result"
        }
      ],
      "source": [
        "def map_visualization(gps_data,city_location,bus_terminals,bus_terminals_buffer):\n",
        "\n",
        "  \"\"\"\n",
        "    Using a  GPS data visualization package of Folium, project the coordinates on\n",
        "    Open Street Map (OSM) to explore how the records are spread and to gain some insights and overview.\n",
        "\n",
        "    Args:\n",
        "        gps_data (pd.DataFrame): GPS data with selected device ID.\n",
        "        city_location (arr): Longtitude and lattitude of a city\n",
        "        bus_terminals (GeoDataFrame) : Bus terminal data with geometry column\n",
        "        bus_terminals_buffer (GeoDataFrame) :  Bus terminal data with geometry column buffer range\n",
        "\n",
        "    Returns:\n",
        "        map (MapObject): A visualizable Map Object.\n",
        "  \"\"\"\n",
        "\n",
        "  gps_data = gpd.GeoDataFrame(gps_data, geometry=gpd.points_from_xy(gps_data.longitude,gps_data.latitude),crs='EPSG:4326')  #converting to GeoDataframe with Coordinate Reference system 4326\n",
        "  map =  folium.Map(location=city_location, tiles='openstreetmap', zoom_start=14)\n",
        "  for idx, row in gps_data.iterrows():\n",
        "    Marker([row['latitude'], row['longitude']]).add_to(map)\n",
        "\n",
        "  # bus_terminals = gpd.GeoDataFrame(bus_terminals, geometry=gpd.points_from_xy(bus_terminals.longitude,bus_terminals.latitude),crs='EPSG:4326')\n",
        "  # for idx, row in bus_terminals.iterrows():\n",
        "  #   Marker([row['latitude'], row['longitude']]).add_to(map)\n",
        "\n",
        "  folium.GeoJson(bus_terminals_buffer.to_crs(epsg=4326)).add_to(map)\n",
        "  map\n",
        "  return map\n",
        "\n",
        "\n",
        "\n",
        "bus_terminals = gpd.GeoDataFrame(bus_terminals, geometry=gpd.points_from_xy(bus_terminals.longitude,bus_terminals.latitude),crs='EPSG:4326')\n",
        "bus_terminals = bus_terminals.to_crs('EPSG:5234')\n",
        "bus_terminals_buffer = gpd.GeoDataFrame(bus_terminals, geometry = bus_terminals.geometry.buffer(end_buffer))\n",
        "\n",
        "gps_data['deviceid'].value_counts()\n",
        "\n",
        "data84 = gps_data[gps_data['deviceid']==10]\n",
        "\n",
        "city_location = [7.2906,80.6337]  #Kandy city location\n",
        "map = map_visualization(data84,city_location,bus_terminals,bus_terminals_buffer)\n",
        "\n",
        "map\n"
      ]
    },
    {
      "cell_type": "code",
      "execution_count": null,
      "metadata": {
        "id": "_ERMvZYzrv_U"
      },
      "outputs": [],
      "source": [
        "gps_data"
      ]
    },
    {
      "cell_type": "code",
      "source": [
        "from google.colab import drive\n",
        "drive.mount('/content/drive')"
      ],
      "metadata": {
        "id": "A_iBrvsBubQO",
        "outputId": "a9748c41-e48b-44c1-f1ca-46e90423a84a",
        "colab": {
          "base_uri": "https://localhost:8080/"
        }
      },
      "execution_count": 45,
      "outputs": [
        {
          "output_type": "stream",
          "name": "stdout",
          "text": [
            "Drive already mounted at /content/drive; to attempt to forcibly remount, call drive.mount(\"/content/drive\", force_remount=True).\n"
          ]
        }
      ]
    }
  ],
  "metadata": {
    "kernelspec": {
      "display_name": "Python 3",
      "language": "python",
      "name": "python3"
    },
    "language_info": {
      "codemirror_mode": {
        "name": "ipython",
        "version": 3
      },
      "file_extension": ".py",
      "mimetype": "text/x-python",
      "name": "python",
      "nbconvert_exporter": "python",
      "pygments_lexer": "ipython3",
      "version": "3.11.3"
    },
    "orig_nbformat": 4,
    "colab": {
      "provenance": [],
      "history_visible": true
    }
  },
  "nbformat": 4,
  "nbformat_minor": 0
}