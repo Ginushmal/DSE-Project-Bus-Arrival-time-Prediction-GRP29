{
  "cells": [
    {
      "cell_type": "code",
      "source": [
        "### the trip ids dont match in our processed data and Ayyas data\n",
        "### we need to match the trip ids"
      ],
      "metadata": {
        "id": "jlqEbHcLNv6C"
      },
      "execution_count": 109,
      "outputs": []
    },
    {
      "cell_type": "code",
      "source": [
        "#mount google drive\n",
        "from google.colab import drive\n",
        "drive.mount('/content/drive')\n"
      ],
      "metadata": {
        "colab": {
          "base_uri": "https://localhost:8080/"
        },
        "id": "U_3P7AwEOasv",
        "outputId": "36037650-3eff-492b-b688-ce9e5bb47ca2"
      },
      "execution_count": 110,
      "outputs": [
        {
          "output_type": "stream",
          "name": "stdout",
          "text": [
            "Drive already mounted at /content/drive; to attempt to forcibly remount, call drive.mount(\"/content/drive\", force_remount=True).\n"
          ]
        }
      ]
    },
    {
      "cell_type": "code",
      "source": [
        "dataOutPath = '/content/drive/MyDrive/DSE_Project/dataOut/'\n",
        "AyyasProcessedDataPath = '/content/drive/MyDrive/DSE_Project/AyyasProcessedData/'"
      ],
      "metadata": {
        "id": "cjMD78GbO3sk"
      },
      "execution_count": 111,
      "outputs": []
    },
    {
      "cell_type": "code",
      "execution_count": 112,
      "metadata": {
        "id": "tE1q7t4-Ne3u"
      },
      "outputs": [],
      "source": [
        "import numpy as np\n",
        "import pandas as pd\n",
        "\n",
        "Mydata = pd.read_csv(dataOutPath + 'bus_trip_all_points.csv')\n",
        "\n",
        "AyyasData =pd.read_csv(AyyasProcessedDataPath + 'bus_running_times_feature_added_all.csv')\n",
        "Aayyas_dwelltime_df = pd.read_csv(AyyasProcessedDataPath +'bus_stop_times_feature_added_all.csv')"
      ]
    },
    {
      "cell_type": "code",
      "source": [
        "AyyasData.dropna(inplace=True)"
      ],
      "metadata": {
        "id": "lhyZgu7bTFJn"
      },
      "execution_count": 113,
      "outputs": []
    },
    {
      "cell_type": "code",
      "execution_count": 114,
      "metadata": {
        "id": "XzU8uGweNe3y"
      },
      "outputs": [],
      "source": [
        "# show all the columns in pandas dataframes\n",
        "pd.set_option('display.max_columns', None)"
      ]
    },
    {
      "cell_type": "code",
      "execution_count": null,
      "metadata": {
        "id": "uTASq7oCNe3y"
      },
      "outputs": [],
      "source": [
        "# AyyasDataonly keep 'trip_id', 'deviceid', 'direction', 'date', 'start_time', 'end_time' columns\n",
        "AyyasData_forComp = AyyasData[['trip_id', 'deviceid',  'date', 'start_time', 'end_time']]\n",
        "\n",
        "AyyasData_forComp['start_time'] = pd.to_datetime(AyyasData_forComp['date'] + ' ' + AyyasData_forComp['start_time'])\n",
        "AyyasData_forComp['end_time'] = pd.to_datetime(AyyasData_forComp['date'] + ' ' + AyyasData_forComp['end_time'])\n",
        "AyyasData_forComp['date'] = pd.to_datetime(AyyasData_forComp['date'], format='%Y-%m-%d').dt.date\n"
      ]
    },
    {
      "cell_type": "code",
      "source": [
        "AyyasData_forComp.dropna(inplace=True)"
      ],
      "metadata": {
        "id": "muMTitFoe2K0"
      },
      "execution_count": null,
      "outputs": []
    },
    {
      "cell_type": "code",
      "execution_count": 117,
      "metadata": {
        "id": "ejxaPd5NNe3z"
      },
      "outputs": [],
      "source": [
        "\n",
        "\n",
        "# Group by 'trip_id' and aggregate\n",
        "AyyasData_forComp = AyyasData_forComp.groupby(['trip_id']).agg(\n",
        "    deviceid=pd.NamedAgg(column='deviceid', aggfunc='first'),\n",
        "    date=pd.NamedAgg(column='date', aggfunc='first'),\n",
        "    start_time=pd.NamedAgg(column='start_time', aggfunc='min'),\n",
        "    end_time=pd.NamedAgg(column='end_time', aggfunc='max')\n",
        ").reset_index()\n",
        "\n"
      ]
    },
    {
      "cell_type": "code",
      "execution_count": null,
      "metadata": {
        "id": "Ap5SZSQ4Ne3z"
      },
      "outputs": [],
      "source": [
        "AyyasData_forComp"
      ]
    },
    {
      "cell_type": "code",
      "execution_count": 119,
      "metadata": {
        "colab": {
          "base_uri": "https://localhost:8080/"
        },
        "id": "fokMeiOYNe30",
        "outputId": "c675f31e-f0c9-45c9-bfdb-8c13f5cb2a38"
      },
      "outputs": [
        {
          "output_type": "stream",
          "name": "stdout",
          "text": [
            "['id', 'deviceid', 'devicetime', 'latitude', 'longitude', 'speed', 'date', 'time', 'geometry', 'bus_stop', 'trip_id', 'direction']\n"
          ]
        }
      ],
      "source": [
        "# get a list of all columns in the dataframe\n",
        "colls=list(Mydata.columns)\n",
        "print(colls)"
      ]
    },
    {
      "cell_type": "code",
      "execution_count": null,
      "metadata": {
        "id": "LjFW4kKRNe30"
      },
      "outputs": [],
      "source": [
        "Mydata_forComp=Mydata[['trip_id', 'deviceid', 'date', 'time']]\n",
        "# Convert 'start_time' and 'end_time' columns to datetime format ( start tieme and end time only have time in hh:mm:ss format)\n",
        "Mydata_forComp['time'] = pd.to_datetime(Mydata['date'] + ' ' + Mydata['time'])\n",
        "# convert 'date' column to datetime format\n",
        "Mydata_forComp['date'] = pd.to_datetime(Mydata['date'], format='%Y-%m-%d').dt.date\n"
      ]
    },
    {
      "cell_type": "code",
      "source": [],
      "metadata": {
        "id": "ae9Naue8vcwC"
      },
      "execution_count": null,
      "outputs": []
    },
    {
      "cell_type": "code",
      "execution_count": null,
      "metadata": {
        "id": "vhXtIhpfNe37"
      },
      "outputs": [],
      "source": [
        "# group Mydata by trip id and pick the middle value of every column , columns are ['trip_id', 'deviceid', 'date', 'time']\n",
        "\n",
        "# Sort the data by 'trip_id' and 'time'\n",
        "Mydata_forComp = Mydata_forComp.sort_values(by=['trip_id', 'time'])\n",
        "\n",
        "# Calculate the number of rows in each 'trip_id' group\n",
        "group_sizes = Mydata_forComp.groupby('trip_id').size().reset_index(name='group_size')\n",
        "\n",
        "# Select the middle row from each 'trip_id' group\n",
        "Mydata_forComp = Mydata_forComp.merge(group_sizes, on='trip_id')\n",
        "Mydata_forComp['middle_row'] = Mydata_forComp['group_size'] // 2\n"
      ]
    },
    {
      "cell_type": "code",
      "source": [
        "# Select the middle values for each 'trip_id' group\n",
        "Mydata_forComp = Mydata_forComp[Mydata_forComp.groupby('trip_id').cumcount() == Mydata_forComp['middle_row']]\n",
        "Mydata_forComp"
      ],
      "metadata": {
        "id": "23V2M2QmZVd2"
      },
      "execution_count": null,
      "outputs": []
    },
    {
      "cell_type": "code",
      "source": [
        "\n",
        "\n",
        "# Cleanup: Drop the helper columns\n",
        "Mydata_forComp.drop(columns=['group_size', 'middle_row'], inplace=True)\n",
        "\n",
        "# Reset the index\n",
        "Mydata_forComp.reset_index(drop=True, inplace=True)\n"
      ],
      "metadata": {
        "id": "ME_zJlKXYpmq"
      },
      "execution_count": null,
      "outputs": []
    },
    {
      "cell_type": "code",
      "source": [],
      "metadata": {
        "id": "3h4oswjbk3E9"
      },
      "execution_count": 93,
      "outputs": []
    },
    {
      "cell_type": "code",
      "execution_count": 133,
      "metadata": {
        "id": "pmXXiLIZNe38"
      },
      "outputs": [],
      "source": [
        "# make AyyasData_forComp deviceid integer without the decimal point\n",
        "AyyasData_forComp['deviceid'] = AyyasData_forComp['deviceid'].astype(int)\n"
      ]
    },
    {
      "cell_type": "code",
      "execution_count": null,
      "metadata": {
        "id": "jK7cSAZDNe38"
      },
      "outputs": [],
      "source": [
        "smaller_df, larger_df = AyyasData_forComp, Mydata_forComp\n",
        "\n",
        "# Create a mapping dictionary based on common bus IDs, date, and time\n",
        "mapping_dict = {}\n",
        "for index, row in smaller_df.iterrows():\n",
        "    matching_rows = larger_df[\n",
        "        (larger_df['deviceid'] == row['deviceid']) &\n",
        "        (larger_df['time'] >= row['start_time']) &\n",
        "        (larger_df['time'] <= row['end_time'])\n",
        "    ]\n",
        "    if len(matching_rows) >= 1:\n",
        "        mapping_dict[row['trip_id']] = matching_rows.iloc[0]['trip_id']\n",
        "\n",
        "# Update trip IDs in the smaller data frame using the mapping dictionary\n",
        "smaller_df['trip_id'] = smaller_df['trip_id'].map(mapping_dict)\n",
        "\n",
        "# Now, the trip IDs in the smaller data frame have been updated to match the larger data frame\n",
        "print(smaller_df)\n"
      ]
    },
    {
      "cell_type": "code",
      "source": [],
      "metadata": {
        "id": "onqmMkvPr1j0"
      },
      "execution_count": 96,
      "outputs": []
    },
    {
      "cell_type": "code",
      "source": [
        "# # ### this runs faster than above code\n",
        "\n",
        "# smaller_df, larger_df = AyyasData_forComp, Mydata_forComp\n",
        "# # Step 1: Merge DataFrames\n",
        "# merged_df = pd.merge(\n",
        "#     smaller_df[['trip_id', 'deviceid', 'start_time', 'end_time']],\n",
        "#     larger_df[['trip_id', 'deviceid', 'time']],\n",
        "#     on='deviceid',\n",
        "#     how='left'\n",
        "# )\n",
        "\n",
        "# # Filter rows based on time conditions\n",
        "# valid_rows = merged_df[\n",
        "#     (merged_df['time'] >= merged_df['start_time']) &\n",
        "#     (merged_df['time'] <= merged_df['end_time'])\n",
        "# ]\n",
        "\n",
        "# # Step 2: Create Mapping\n",
        "# mapping_dict = pd.Series(\n",
        "#     valid_rows['trip_id_y'].values,\n",
        "#     index=valid_rows['trip_id_x']\n",
        "# ).to_dict()\n",
        "\n",
        "# #Step 3: Update Trip IDs\n",
        "# smaller_df['trip_id'] = smaller_df['trip_id'].map(mapping_dict)\n"
      ],
      "metadata": {
        "id": "L_gRxvfvl7N4"
      },
      "execution_count": 97,
      "outputs": []
    },
    {
      "cell_type": "code",
      "source": [],
      "metadata": {
        "id": "0QjZAkltscm3"
      },
      "execution_count": null,
      "outputs": []
    },
    {
      "cell_type": "code",
      "source": [],
      "metadata": {
        "id": "yYHRcO6nc70J"
      },
      "execution_count": null,
      "outputs": []
    },
    {
      "cell_type": "code",
      "execution_count": 135,
      "metadata": {
        "id": "1ZLLP5ZSNe39"
      },
      "outputs": [],
      "source": [
        "Aayyas_dwelltime_df['trip_id'] = Aayyas_dwelltime_df['trip_id'].map(mapping_dict)\n"
      ]
    },
    {
      "cell_type": "code",
      "execution_count": null,
      "metadata": {
        "id": "yiGY2njsNe39"
      },
      "outputs": [],
      "source": [
        "Aayyas_dwelltime_df"
      ]
    },
    {
      "cell_type": "code",
      "execution_count": 136,
      "metadata": {
        "colab": {
          "base_uri": "https://localhost:8080/"
        },
        "id": "y43b_qaKNe39",
        "outputId": "b3e4c431-77b7-4e92-ff11-ccb5d9df2900"
      },
      "outputs": [
        {
          "output_type": "stream",
          "name": "stdout",
          "text": [
            "Number of unique key-value pairs in mapping_dict: 826\n"
          ]
        }
      ],
      "source": [
        "# Count the number of unique key-value pairs in mapping_dict\n",
        "unique_pairs = len({(key, value) for key, value in mapping_dict.items()})\n",
        "\n",
        "print(\"Number of unique key-value pairs in mapping_dict:\", unique_pairs)\n"
      ]
    },
    {
      "cell_type": "code",
      "execution_count": 137,
      "metadata": {
        "id": "tgiNPsFcNe39"
      },
      "outputs": [],
      "source": [
        "# drop null rows AyyasData\n",
        "smaller_df.dropna(inplace=True)"
      ]
    },
    {
      "cell_type": "code",
      "execution_count": 138,
      "metadata": {
        "id": "wNhrJZRRNe3-"
      },
      "outputs": [],
      "source": [
        "AyyasData['trip_id'] = AyyasData['trip_id'].map(mapping_dict)\n"
      ]
    },
    {
      "cell_type": "code",
      "execution_count": null,
      "metadata": {
        "id": "6pWUjX8cNe3-"
      },
      "outputs": [],
      "source": [
        "# drop raws where only trip_id is null\n",
        "AyyasData.dropna(subset=['trip_id'], inplace=True)\n",
        "\n",
        "Aayyas_dwelltime_df.dropna(subset=['trip_id'], inplace=True)"
      ]
    },
    {
      "cell_type": "code",
      "execution_count": null,
      "metadata": {
        "id": "DL62vydKNe3_"
      },
      "outputs": [],
      "source": [
        "Aayyas_dwelltime_df"
      ]
    },
    {
      "cell_type": "code",
      "execution_count": null,
      "metadata": {
        "id": "eIWzXBijNe3_"
      },
      "outputs": [],
      "source": [
        "AyyasData"
      ]
    },
    {
      "cell_type": "code",
      "execution_count": null,
      "metadata": {
        "id": "ublDDKNuNe3_",
        "outputId": "50290edd-90e5-4fd5-848d-61f1c1d89a2d"
      },
      "outputs": [
        {
          "name": "stdout",
          "output_type": "stream",
          "text": [
            "15891\n"
          ]
        }
      ],
      "source": [
        "# print number of unique trip_id in Mydata\n",
        "print(Mydata['trip_id'].nunique())"
      ]
    },
    {
      "cell_type": "code",
      "execution_count": null,
      "metadata": {
        "id": "ZQeu6yudNe3_"
      },
      "outputs": [],
      "source": [
        "# get a list of values in mapping_dict dictionary\n",
        "available_trip_ids=list(mapping_dict.values())"
      ]
    },
    {
      "cell_type": "code",
      "execution_count": null,
      "metadata": {
        "id": "JcYShZYTNe3_"
      },
      "outputs": [],
      "source": [
        "available_trip_ids=list(set(available_trip_ids))"
      ]
    },
    {
      "cell_type": "code",
      "execution_count": null,
      "metadata": {
        "id": "gCucBABTNe4A"
      },
      "outputs": [],
      "source": [
        "# drop the rows in Mydata where trip_id is not in available_trip_ids\n",
        "Mydata=Mydata[Mydata['trip_id'].isin(available_trip_ids)]"
      ]
    },
    {
      "cell_type": "code",
      "execution_count": null,
      "metadata": {
        "id": "Ej3OXndJNe4A"
      },
      "outputs": [],
      "source": [
        "Mydata"
      ]
    },
    {
      "cell_type": "code",
      "execution_count": null,
      "metadata": {
        "id": "iSRdxJXpNe4A"
      },
      "outputs": [],
      "source": [
        "# get my data trip id == 4890\n",
        "AyyasData[AyyasData['trip_id']==2370]"
      ]
    },
    {
      "cell_type": "code",
      "execution_count": null,
      "metadata": {
        "id": "CbBa3YIINe4A"
      },
      "outputs": [],
      "source": [
        "# save my data to csv file bus_trip_all_points_moddedDF.csv\n",
        "Mydata.to_csv('../DataOut/bus_trip_all_points_moddedDF.csv', index=False)\n",
        "\n",
        "# save AyyasData to csv file bus_running_times_feature_added_all_moddedDF.csv\n",
        "AyyasData.to_csv('../DataOut/bus_running_times_feature_added_all_moddedDF.csv', index=False)\n",
        "\n",
        "# save AyyasData to csv file bus_running_times_feature_added_all_moddedDF.csv\n",
        "Aayyas_dwelltime_df.to_csv('../DataOut/bus_stop_times_feature_added_all_moddedDF.csv', index=False)\n",
        "\n"
      ]
    }
  ],
  "metadata": {
    "kernelspec": {
      "display_name": "Python 3",
      "language": "python",
      "name": "python3"
    },
    "language_info": {
      "codemirror_mode": {
        "name": "ipython",
        "version": 3
      },
      "file_extension": ".py",
      "mimetype": "text/x-python",
      "name": "python",
      "nbconvert_exporter": "python",
      "pygments_lexer": "ipython3",
      "version": "3.11.3"
    },
    "orig_nbformat": 4,
    "colab": {
      "provenance": []
    }
  },
  "nbformat": 4,
  "nbformat_minor": 0
}